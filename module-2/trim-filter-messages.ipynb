{
 "cells": [
  {
   "cell_type": "markdown",
   "id": "fb0ebaf1",
   "metadata": {},
   "source": [
    "[![Open in Colab](https://colab.research.google.com/assets/colab-badge.svg)](https://colab.research.google.com/github/langchain-ai/langchain-academy/blob/main/module-2/trim-filter-messages.ipynb) [![Open in LangChain Academy](https://cdn.prod.website-files.com/65b8cd72835ceeacd4449a53/66e9eba12c7b7688aa3dbb5e_LCA-badge-green.svg)](https://academy.langchain.com/courses/take/intro-to-langgraph/lessons/58239435-lesson-4-trim-and-filter-messages)"
   ]
  },
  {
   "cell_type": "markdown",
   "id": "c52ea2f9-03ff-4647-b782-46867ebed04e",
   "metadata": {},
   "source": [
    "# Filtering and trimming messages\n",
    "\n",
    "## Review\n",
    "\n",
    "Now, we have a deeper understanding of a few things: \n",
    "\n",
    "* How to customize the graph state schema\n",
    "* How to define custom state reducers\n",
    "* How to use multiple graph state schemas\n",
    "\n",
    "## Goals\n",
    "\n",
    "Now, we can start using these concepts with models in LangGraph!\n",
    " \n",
    "In the next few sessions, we'll build towards a chatbot that has long-term memory.\n",
    "\n",
    "Because our chatbot will use messages, let's first talk a bit more about advanced ways to work with messages in graph state."
   ]
  },
  {
   "cell_type": "code",
   "id": "d5197aba-5d46-421b-ae3b-4e3034edcfda",
   "metadata": {
    "ExecuteTime": {
     "end_time": "2025-09-29T05:21:42.470290Z",
     "start_time": "2025-09-29T05:21:36.306659Z"
    }
   },
   "source": [
    "%%capture --no-stderr\n",
    "%pip install --quiet -U langchain_core langgraph langchain_openai"
   ],
   "outputs": [],
   "execution_count": 1
  },
  {
   "cell_type": "code",
   "id": "768dc606-d5f2-468d-96ea-910b264e0f8a",
   "metadata": {
    "ExecuteTime": {
     "end_time": "2025-09-29T05:22:24.530203Z",
     "start_time": "2025-09-29T05:22:24.500402Z"
    }
   },
   "source": [
    "import os, getpass\n",
    "from dotenv import load_dotenv\n",
    "load_dotenv()\n",
    "\n",
    "def _set_env(var: str):\n",
    "    if not os.environ.get(var):\n",
    "        os.environ[var] = getpass.getpass(f\"{var}: \")\n",
    "\n",
    "_set_env(\"GOOGLE_API_KEY\")"
   ],
   "outputs": [],
   "execution_count": 2
  },
  {
   "cell_type": "markdown",
   "id": "8b64d8d3-e4ac-4961-bdc0-688825eb5864",
   "metadata": {},
   "source": [
    "We'll use [LangSmith](https://docs.smith.langchain.com/) for [tracing](https://docs.smith.langchain.com/concepts/tracing).\n",
    "\n",
    "We'll log to a project, `langchain-academy`. "
   ]
  },
  {
   "cell_type": "code",
   "id": "dd020c79",
   "metadata": {
    "ExecuteTime": {
     "end_time": "2025-09-29T05:22:32.366750Z",
     "start_time": "2025-09-29T05:22:32.360486Z"
    }
   },
   "source": [
    "_set_env(\"LANGSMITH_API_KEY\")\n",
    "os.environ[\"LANGSMITH_TRACING\"] = \"true\"\n",
    "os.environ[\"LANGSMITH_PROJECT\"] = \"langchain-academy\""
   ],
   "outputs": [],
   "execution_count": 3
  },
  {
   "cell_type": "markdown",
   "id": "72f3fc90-58b6-4f7f-897e-dddf6ae532c7",
   "metadata": {},
   "source": [
    "## Messages as state\n",
    "\n",
    "First, let's define some messages."
   ]
  },
  {
   "cell_type": "code",
   "id": "cf11a463-e27a-4a05-b41d-64882e38edca",
   "metadata": {
    "ExecuteTime": {
     "end_time": "2025-09-29T05:22:56.347288Z",
     "start_time": "2025-09-29T05:22:55.953368Z"
    }
   },
   "source": [
    "from pprint import pprint\n",
    "from langchain_core.messages import AIMessage, HumanMessage\n",
    "messages = [AIMessage(f\"So you said you were researching ocean mammals?\", name=\"Bot\")]\n",
    "messages.append(HumanMessage(f\"Yes, I know about whales. But what others should I learn about?\", name=\"Lance\"))\n",
    "\n",
    "for m in messages:\n",
    "    m.pretty_print()"
   ],
   "outputs": [
    {
     "name": "stdout",
     "output_type": "stream",
     "text": [
      "==================================\u001B[1m Ai Message \u001B[0m==================================\n",
      "Name: Bot\n",
      "\n",
      "So you said you were researching ocean mammals?\n",
      "================================\u001B[1m Human Message \u001B[0m=================================\n",
      "Name: Lance\n",
      "\n",
      "Yes, I know about whales. But what others should I learn about?\n"
     ]
    }
   ],
   "execution_count": 4
  },
  {
   "cell_type": "markdown",
   "id": "b814adcb-6bf9-4b75-be11-e59f933fbd0c",
   "metadata": {},
   "source": [
    "Recall we can pass them to a chat model."
   ]
  },
  {
   "cell_type": "code",
   "id": "4712e288-e622-48a2-ad3f-a52f65f3ab08",
   "metadata": {
    "ExecuteTime": {
     "end_time": "2025-09-29T05:24:21.753960Z",
     "start_time": "2025-09-29T05:23:56.242720Z"
    }
   },
   "source": [
    "from langchain_openai import ChatOpenAI\n",
    "from langchain_google_genai import ChatGoogleGenerativeAI\n",
    "llm = ChatGoogleGenerativeAI(model=\"gemini-2.5-pro\")\n",
    "llm.invoke(messages)"
   ],
   "outputs": [
    {
     "name": "stderr",
     "output_type": "stream",
     "text": [
      "WARNING: All log messages before absl::InitializeLog() is called are written to STDERR\n",
      "E0000 00:00:1759123439.655761  805913 alts_credentials.cc:93] ALTS creds ignored. Not running on GCP and untrusted ALTS is not enabled.\n"
     ]
    },
    {
     "data": {
      "text/plain": [
       "AIMessage(content='Of course! That\\'s a fantastic topic. While whales are incredible, the world of ocean mammals is wonderfully diverse. They are generally categorized into a few main groups.\\n\\nHere are the other major types of marine mammals you should definitely explore:\\n\\n### 1. Dolphins and Porpoises\\nEven though you know about whales, it\\'s worth noting that dolphins and porpoises are actually a type of **toothed whale** (Odontoceti). They are often studied as their own group because of their unique social structures and behaviors.\\n\\n*   **What to look for:** Highly intelligent, social animals that live in pods. They are known for their acrobatic abilities and use of echolocation to hunt and navigate.\\n*   **Key Examples:**\\n    *   **Bottlenose Dolphin:** The most common and well-known species.\\n    *   **Orca (Killer Whale):** Surprisingly, the largest species of dolphin!\\n    *   **Harbor Porpoise:** Smaller, shyer, and have spade-shaped teeth instead of the conical teeth of dolphins.\\n\\n---\\n\\n### 2. Pinnipeds (Seals, Sea Lions, and Walruses)\\nThis group\\'s name means \"fin-footed,\" and it includes all the animals we commonly think of as seals.\\n\\n*   **What to look for:** They are semi-aquatic, meaning they live in the ocean but come ashore to rest, breed, and give birth. A common point of research is learning to tell them apart.\\n*   **How to Tell the Difference:**\\n    *   **Seals (True Seals):** They have no external ear flaps (just ear holes) and move on land by wriggling on their bellies like an inchworm. They are graceful swimmers, using their rear flippers for power.\\n    *   **Sea Lions (and Fur Seals):** They have small, visible external ear flaps. They can \"walk\" on land by rotating their large front flippers forward. They swim using these powerful front flippers like oars.\\n    *   **Walruses:** In a class of their own! They are easily identified by their massive size and long tusks (found on both males and females).\\n\\n---\\n\\n### 3. Sirenians (Manatees and Dugongs)\\nOften called \"sea cows,\" these are the only herbivorous (plant-eating) marine mammals.\\n\\n*   **What to look for:** Large, slow-moving, gentle animals that live in warm, shallow coastal waters, estuaries, and rivers. They are very vulnerable to boat strikes and habitat loss.\\n*   **Key Examples:**\\n    *   **Manatees:** Found in the Atlantic. Their defining feature is a large, paddle-shaped tail.\\n    *   **Dugongs:** Found in the Indo-Pacific. They have a fluke-like tail, similar to a whale\\'s.\\n\\n---\\n\\n### 4. Marine Fissipeds (Sea Otters and Polar Bears)\\nThese animals are more closely related to land carnivores but are considered marine mammals because they depend entirely on the ocean for their food.\\n\\n*   **What to look for:** They don\\'t have blubber like other marine mammals but have other amazing adaptations.\\n*   **Key Examples:**\\n    *   **Sea Otter:** The smallest marine mammal, but it has the densest fur of any animal on Earth to keep it warm. Famous for floating on its back and using rocks as tools to crack open shellfish.\\n    *   **Polar Bear:** The largest land carnivore, but considered a marine mammal because its life is tied to sea ice. They are excellent swimmers and primarily hunt seals from the ice edge.\\n\\n### Quick Summary:\\n\\n*   **Dolphins & Porpoises:** The intelligent, social, and smaller toothed whales.\\n*   **Pinnipeds:** The \"fin-footed\" group of seals, sea lions, and walruses.\\n*   **Sirenians:** The gentle, herbivorous \"sea cows\" (manatees and dugongs).\\n*   **Marine Fissipeds:** Carnivores adapted to the sea (sea otters and polar bears).\\n\\nWhich of these groups sparks your interest the most? I\\'d be happy to give you more detailed information on any of them', additional_kwargs={}, response_metadata={'prompt_feedback': {'block_reason': 0, 'safety_ratings': []}, 'finish_reason': 'STOP', 'model_name': 'gemini-2.5-pro', 'safety_ratings': []}, id='run--a409b5b7-10cd-48a9-b151-d277120c18f9-0', usage_metadata={'input_tokens': 26, 'output_tokens': 2163, 'total_tokens': 2189, 'input_token_details': {'cache_read': 0}, 'output_token_details': {'reasoning': 1256}})"
      ]
     },
     "execution_count": 5,
     "metadata": {},
     "output_type": "execute_result"
    }
   ],
   "execution_count": 5
  },
  {
   "cell_type": "markdown",
   "id": "fbd1dab8-0af8-4621-8264-ce65065f76ec",
   "metadata": {},
   "source": [
    "We can run our chat model in a simple graph with `MessagesState`."
   ]
  },
  {
   "cell_type": "code",
   "id": "bbd8c39c-633b-4176-9cc6-8318e42bb5dd",
   "metadata": {
    "ExecuteTime": {
     "end_time": "2025-09-29T05:42:31.703791Z",
     "start_time": "2025-09-29T05:42:31.568388Z"
    }
   },
   "source": [
    "from IPython.display import Image, display\n",
    "from langgraph.graph import MessagesState\n",
    "from langgraph.graph import StateGraph, START, END\n",
    "\n",
    "# Node\n",
    "def chat_model_node(state: MessagesState):\n",
    "    return {\"messages\": llm.invoke(state[\"messages\"])}\n",
    "\n",
    "# Build graph\n",
    "builder = StateGraph(MessagesState)\n",
    "builder.add_node(\"chat_model\", chat_model_node)\n",
    "builder.add_edge(START, \"chat_model\")\n",
    "builder.add_edge(\"chat_model\", END)\n",
    "graph = builder.compile()\n",
    "\n",
    "# View\n",
    "display(Image(graph.get_graph().draw_mermaid_png()))"
   ],
   "outputs": [
    {
     "data": {
      "image/jpeg": "[encoded data removed]",
      "text/plain": [
       "<IPython.core.display.Image object>"
      ]
     },
     "metadata": {},
     "output_type": "display_data",
     "jetTransient": {
      "display_id": null
     }
    }
   ],
   "execution_count": 7
  },
  {
   "cell_type": "code",
   "id": "3a5a3e4a-ccfd-4d14-81f1-f0de6e11a1e4",
   "metadata": {
    "ExecuteTime": {
     "end_time": "2025-09-29T05:43:00.348277Z",
     "start_time": "2025-09-29T05:42:39.276879Z"
    }
   },
   "source": [
    "output = graph.invoke({'messages': messages})\n",
    "for m in output['messages']:\n",
    "    m.pretty_print()"
   ],
   "outputs": [
    {
     "name": "stdout",
     "output_type": "stream",
     "text": [
      "==================================\u001B[1m Ai Message \u001B[0m==================================\n",
      "Name: Bot\n",
      "\n",
      "So you said you were researching ocean mammals?\n",
      "================================\u001B[1m Human Message \u001B[0m=================================\n",
      "Name: Lance\n",
      "\n",
      "Yes, I know about whales. But what others should I learn about?\n",
      "==================================\u001B[1m Ai Message \u001B[0m==================================\n",
      "\n",
      "Of course! It's a fascinating subject. Whales belong to a group called **cetaceans**, but there are several other major groups of marine mammals, each with its own incredible adaptations.\n",
      "\n",
      "Let's explore them.\n",
      "\n",
      "### 1. Dolphins and Porpoises (The other Cetaceans)\n",
      "\n",
      "You know about whales, but it's important to remember that dolphins and porpoises are also types of whales (specifically, \"toothed whales\"). They are often smaller, faster, and highly intelligent.\n",
      "\n",
      "*   **Dolphins:** Known for their playful nature, curved dorsal fins, and cone-shaped teeth. They are typically very social.\n",
      "    *   **Famous examples:** Bottlenose Dolphin, Orca (yes, the \"killer whale\" is actually the largest species of dolphin!).\n",
      "*   **Porpoises:** Generally smaller and shier than dolphins. They have triangular dorsal fins and spade-shaped teeth.\n",
      "    *   **Famous examples:** Harbor Porpoise, the critically endangered Vaquita.\n",
      "\n",
      "### 2. Pinnipeds (The \"Fin-Footed\" Mammals)\n",
      "\n",
      "This group includes seals, sea lions, and walruses. They are carnivores that can live on both land and in the water, but they get their food from the ocean.\n",
      "\n",
      "*   **Seals (True Seals):** They have no external ear flaps and move on land by wiggling on their bellies, like an inchworm. They are generally quieter than sea lions.\n",
      "    *   **Famous examples:** Harbor Seal, Leopard Seal (a top predator in Antarctica), Elephant Seal.\n",
      "*   **Sea Lions (Eared Seals):** You can see their small external ear flaps. They can \"walk\" on land by rotating their rear flippers forward. They are known for being noisy and social, often \"barking.\"\n",
      "    *   **Famous examples:** California Sea Lion (the classic circus \"seal\"), Steller Sea Lion.\n",
      "*   **Walruses:** In a category of their own! They are famous for their massive size, long tusks (found in both males and females), and sensitive whiskers used to find shellfish on the dark ocean floor.\n",
      "\n",
      "### 3. Sirenians (The \"Sea Cows\")\n",
      "\n",
      "These are the only vegetarian marine mammals! They are large, slow-moving, and live in warm, shallow waters.\n",
      "\n",
      "*   **Manatees:** Found in the Atlantic Ocean (from Florida to Brazil and West Africa). They have a large, paddle-shaped tail.\n",
      "*   **Dugongs:** Found in the warm coastal waters of the Indian and Pacific Oceans. Their key feature is a fluke-shaped tail, similar to a whale's.\n",
      "\n",
      "### 4. Marine Fissipeds (The Carnivores)\n",
      "\n",
      "This group includes two mammals that are not fully aquatic but are so dependent on the marine environment that they are classified as marine mammals.\n",
      "\n",
      "*   **Sea Otters:** The smallest marine mammal and a member of the weasel family. They don't have a layer of blubber like seals; instead, they rely on having the densest fur in the animal kingdom (up to a million hairs per square inch!) to stay warm. They are famous for using rocks as tools to crack open shellfish while floating on their backs.\n",
      "*   **Polar Bears:** While they live on land, they are considered marine mammals because they spend most of their lives on sea ice and are expert swimmers. Their diet consists almost entirely of seals, which they hunt from the ice.\n",
      "\n",
      "---\n",
      "\n",
      "### Quick Comparison Table\n",
      "\n",
      "| Group | Key Features | Examples | How They Move on Land |\n",
      "| :--- | :--- | :--- | :--- |\n",
      "| **Cetaceans** | Fully aquatic, breathe through a blowhole, horizontal tail fin. | Dolphins, Porpoises | Cannot move on land. |\n",
      "| **Pinnipeds** | \"Fin-footed,\" can live on land and sea, carnivores. | Seals, Sea Lions, Walruses | Wiggle on belly (seals) or \"walk\" on flippers (sea lions). |\n",
      "| **Sirenians** | Fully aquatic, herbivores, slow-moving, live in warm water. | Manatees, Dugongs | Cannot move on land. |\n",
      "| **Marine Fissipeds**| Rely on ocean for food but can live on land. | Sea Otters, Polar Bears | Walk and run effectively. |\n",
      "\n",
      "This should give you a great starting point for your research!\n",
      "\n",
      "Is there any of these groups you'd like to dive into deeper?\n"
     ]
    }
   ],
   "execution_count": 8
  },
  {
   "cell_type": "markdown",
   "id": "34c33e63-1ef4-412d-bb10-6a1b9e5b35a7",
   "metadata": {},
   "source": [
    "## Reducer\n",
    "\n",
    "A practical challenge when working with messages is managing long-running conversations. \n",
    "\n",
    "Long-running conversations result in high token usage and latency if we are not careful, because we pass a growing list of messages to the model.\n",
    "\n",
    "We have a few ways to address this.\n",
    "\n",
    "First, recall the trick we saw using `RemoveMessage` and the `add_messages` reducer."
   ]
  },
  {
   "cell_type": "code",
   "id": "222c6bc5-bb0e-4a43-80f5-c8ec38d99f3a",
   "metadata": {
    "ExecuteTime": {
     "end_time": "2025-09-29T06:38:09.940760Z",
     "start_time": "2025-09-29T06:38:09.211078Z"
    }
   },
   "source": [
    "from langchain_core.messages import RemoveMessage\n",
    "\n",
    "# Nodes\n",
    "def filter_messages(state: MessagesState):\n",
    "    # Delete all but the 2 most recent messages\n",
    "    delete_messages = [RemoveMessage(id=m.id) for m in state[\"messages\"][:-2]]\n",
    "    return {\"messages\": delete_messages}\n",
    "\n",
    "def chat_model_node(state: MessagesState):    \n",
    "    return {\"messages\": [llm.invoke(state[\"messages\"])]}\n",
    "\n",
    "# Build graph\n",
    "builder = StateGraph(MessagesState)\n",
    "builder.add_node(\"filter\", filter_messages)\n",
    "builder.add_node(\"chat_model\", chat_model_node)\n",
    "builder.add_edge(START, \"filter\")\n",
    "builder.add_edge(\"filter\", \"chat_model\")\n",
    "builder.add_edge(\"chat_model\", END)\n",
    "graph = builder.compile()\n",
    "\n",
    "# View\n",
    "display(Image(graph.get_graph().draw_mermaid_png()))"
   ],
   "outputs": [
    {
     "data": {
      "image/jpeg": "[encoded data removed]",
      "text/plain": [
       "<IPython.core.display.Image object>"
      ]
     },
     "metadata": {},
     "output_type": "display_data",
     "jetTransient": {
      "display_id": null
     }
    }
   ],
   "execution_count": 9
  },
  {
   "cell_type": "code",
   "id": "95a7c2cc-54ce-43e7-9a90-abf37827d709",
   "metadata": {
    "ExecuteTime": {
     "end_time": "2025-09-29T06:39:05.909955Z",
     "start_time": "2025-09-29T06:38:42.458281Z"
    }
   },
   "source": [
    "# Message list with a preamble\n",
    "messages = [AIMessage(\"Hi.\", name=\"Bot\", id=\"1\")]\n",
    "messages.append(HumanMessage(\"Hi.\", name=\"Lance\", id=\"2\"))\n",
    "messages.append(AIMessage(\"So you said you were researching ocean mammals?\", name=\"Bot\", id=\"3\"))\n",
    "messages.append(HumanMessage(\"Yes, I know about whales. But what others should I learn about?\", name=\"Lance\", id=\"4\"))\n",
    "\n",
    "# Invoke\n",
    "output = graph.invoke({'messages': messages})\n",
    "for m in output['messages']:\n",
    "    m.pretty_print()"
   ],
   "outputs": [
    {
     "name": "stdout",
     "output_type": "stream",
     "text": [
      "==================================\u001B[1m Ai Message \u001B[0m==================================\n",
      "Name: Bot\n",
      "\n",
      "So you said you were researching ocean mammals?\n",
      "================================\u001B[1m Human Message \u001B[0m=================================\n",
      "Name: Lance\n",
      "\n",
      "Yes, I know about whales. But what others should I learn about?\n",
      "==================================\u001B[1m Ai Message \u001B[0m==================================\n",
      "\n",
      "Of course! It's a fascinating subject. Whales are part of a group called **Cetaceans**, but there are several other major families of marine mammals, each with its own unique adaptations.\n",
      "\n",
      "Let's break them down into the main groups you should know.\n",
      "\n",
      "### 1. Dolphins and Porpoises (Also Cetaceans!)\n",
      "\n",
      "You know whales, but dolphins and porpoises are technically a type of toothed whale. They are so distinct and diverse that they're worth studying on their own. They are known for their high intelligence, social structures, and use of echolocation.\n",
      "\n",
      "**How to tell them apart:**\n",
      "*   **Dolphins:** Usually have a longer snout (or \"beak\"), cone-shaped teeth, and a curved, wave-like dorsal fin. The Orca (or Killer Whale) is actually the largest species of dolphin!\n",
      "*   **Porpoises:** Are smaller and chubbier, with a blunt snout, spade-shaped teeth, and a small, triangular dorsal fin.\n",
      "\n",
      "**Examples to look up:** Bottlenose Dolphin, Orca, Vaquita (the world's most endangered marine mammal).\n",
      "\n",
      "---\n",
      "\n",
      "### 2. Seals, Sea Lions, and Walruses (The Pinnipeds)\n",
      "\n",
      "This group is known as the \"pinnipeds,\" which means \"fin-footed.\" They live both in the water and on land (or ice) for resting and breeding. People often mix them up, but there are easy ways to tell them apart.\n",
      "\n",
      "**How to tell them apart:**\n",
      "*   **Sea Lions:**\n",
      "    *   Have small, visible **external ear flaps**.\n",
      "    *   Can \"walk\" on land by rotating their large rear flippers forward.\n",
      "    *   They are noisy and \"bark.\"\n",
      "*   **Seals (True Seals):**\n",
      "    *   Have **no external ear flaps**, just ear holes.\n",
      "    *   Wriggle on their bellies on land; their rear flippers can't rotate forward.\n",
      "    *   They are generally quieter, making softer grunts.\n",
      "*   **Walruses:**\n",
      "    *   The easiest to spot! They are huge, have prominent **tusks** (in both males and females), and bristly whiskers. They have no external ear flaps, like seals, but can walk on land like sea lions.\n",
      "\n",
      "**Examples to look up:** California Sea Lion, Harbor Seal, Pacific Walrus.\n",
      "\n",
      "---\n",
      "\n",
      "### 3. Manatees and Dugongs (The Sirenians)\n",
      "\n",
      "Often called \"sea cows,\" these are large, slow-moving, gentle herbivores. They live in warm, shallow coastal waters, estuaries, and rivers. Legend has it that lonely sailors once mistook them for mermaids.\n",
      "\n",
      "**How to tell them apart:**\n",
      "*   **Manatees:** Have a large, **paddle-shaped tail**, like a beaver.\n",
      "*   **Dugongs:** Have a **fluked tail**, like a whale or dolphin.\n",
      "\n",
      "**Examples to look up:** West Indian Manatee, Dugong.\n",
      "\n",
      "---\n",
      "\n",
      "### 4. Sea Otters and Polar Bears\n",
      "\n",
      "These two are a bit different because they belong to families with land-based relatives (weasels and bears, respectively). However, they are considered marine mammals because they depend entirely on the ocean for their survival.\n",
      "\n",
      "*   **Sea Otters:**\n",
      "    *   The smallest marine mammal.\n",
      "    *   They have the densest fur of any animal on Earth to keep warm, as they have no blubber.\n",
      "    *   Famous for floating on their backs, using rocks as tools to crack open shellfish.\n",
      "*   **Polar Bears:**\n",
      "    *   The world's largest land carnivore, but they are classified as marine mammals because their life is tied to sea ice, where they hunt their primary food: seals.\n",
      "    *   They are excellent swimmers and can travel long distances in the water.\n",
      "\n",
      "To get started, I'd suggest picking one of these groups that sounds most interesting to you. For example, learning the simple tricks to tell a **seal from a sea lion** is a great place to begin\n"
     ]
    }
   ],
   "execution_count": 10
  },
  {
   "cell_type": "markdown",
   "id": "f506457d-014b-4fee-a684-e5edfb4b8f0d",
   "metadata": {},
   "source": [
    "## Filtering messages\n",
    "\n",
    "If you don't need or want to modify the graph state, you can just filter the messages you pass to the chat model.\n",
    "\n",
    "For example, just pass in a filtered list: `llm.invoke(messages[-1:])` to the model."
   ]
  },
  {
   "cell_type": "code",
   "id": "22d0b904-7cd6-486b-8948-105bee3d4683",
   "metadata": {
    "ExecuteTime": {
     "end_time": "2025-09-29T06:39:42.783317Z",
     "start_time": "2025-09-29T06:39:42.659533Z"
    }
   },
   "source": [
    "# Node\n",
    "def chat_model_node(state: MessagesState):\n",
    "    return {\"messages\": [llm.invoke(state[\"messages\"][-1:])]}\n",
    "\n",
    "# Build graph\n",
    "builder = StateGraph(MessagesState)\n",
    "builder.add_node(\"chat_model\", chat_model_node)\n",
    "builder.add_edge(START, \"chat_model\")\n",
    "builder.add_edge(\"chat_model\", END)\n",
    "graph = builder.compile()\n",
    "\n",
    "# View\n",
    "display(Image(graph.get_graph().draw_mermaid_png()))"
   ],
   "outputs": [
    {
     "data": {
      "image/jpeg": "[encoded data removed]",
      "text/plain": [
       "<IPython.core.display.Image object>"
      ]
     },
     "metadata": {},
     "output_type": "display_data",
     "jetTransient": {
      "display_id": null
     }
    }
   ],
   "execution_count": 11
  },
  {
   "cell_type": "markdown",
   "id": "6f58c6fc-532f-418d-b70a-cfcb3307daf5",
   "metadata": {},
   "source": [
    "Let's take our existing list of messages, append the above LLM response, and append a follow-up question."
   ]
  },
  {
   "cell_type": "code",
   "id": "16956015-1dbe-4108-89b5-4209b68b51ca",
   "metadata": {
    "ExecuteTime": {
     "end_time": "2025-09-29T06:40:19.294690Z",
     "start_time": "2025-09-29T06:40:19.288036Z"
    }
   },
   "source": [
    "messages.append(output['messages'][-1])\n",
    "messages.append(HumanMessage(f\"Tell me more about Narwhals!\", name=\"Lance\"))"
   ],
   "outputs": [],
   "execution_count": 12
  },
  {
   "cell_type": "code",
   "id": "85563415-c085-46a8-a4ac-155df798c54e",
   "metadata": {
    "ExecuteTime": {
     "end_time": "2025-09-29T06:40:18.879172Z",
     "start_time": "2025-09-29T06:40:18.872258Z"
    }
   },
   "source": [
    "for m in messages:\n",
    "    m.pretty_print()"
   ],
   "outputs": [
    {
     "name": "stdout",
     "output_type": "stream",
     "text": [
      "==================================\u001B[1m Ai Message \u001B[0m==================================\n",
      "Name: Bot\n",
      "\n",
      "Hi.\n",
      "================================\u001B[1m Human Message \u001B[0m=================================\n",
      "Name: Lance\n",
      "\n",
      "Hi.\n",
      "==================================\u001B[1m Ai Message \u001B[0m==================================\n",
      "Name: Bot\n",
      "\n",
      "So you said you were researching ocean mammals?\n",
      "================================\u001B[1m Human Message \u001B[0m=================================\n",
      "Name: Lance\n",
      "\n",
      "Yes, I know about whales. But what others should I learn about?\n",
      "==================================\u001B[1m Ai Message \u001B[0m==================================\n",
      "\n",
      "Of course! It's a fascinating subject. Whales are part of a group called **Cetaceans**, but there are several other major families of marine mammals, each with its own unique adaptations.\n",
      "\n",
      "Let's break them down into the main groups you should know.\n",
      "\n",
      "### 1. Dolphins and Porpoises (Also Cetaceans!)\n",
      "\n",
      "You know whales, but dolphins and porpoises are technically a type of toothed whale. They are so distinct and diverse that they're worth studying on their own. They are known for their high intelligence, social structures, and use of echolocation.\n",
      "\n",
      "**How to tell them apart:**\n",
      "*   **Dolphins:** Usually have a longer snout (or \"beak\"), cone-shaped teeth, and a curved, wave-like dorsal fin. The Orca (or Killer Whale) is actually the largest species of dolphin!\n",
      "*   **Porpoises:** Are smaller and chubbier, with a blunt snout, spade-shaped teeth, and a small, triangular dorsal fin.\n",
      "\n",
      "**Examples to look up:** Bottlenose Dolphin, Orca, Vaquita (the world's most endangered marine mammal).\n",
      "\n",
      "---\n",
      "\n",
      "### 2. Seals, Sea Lions, and Walruses (The Pinnipeds)\n",
      "\n",
      "This group is known as the \"pinnipeds,\" which means \"fin-footed.\" They live both in the water and on land (or ice) for resting and breeding. People often mix them up, but there are easy ways to tell them apart.\n",
      "\n",
      "**How to tell them apart:**\n",
      "*   **Sea Lions:**\n",
      "    *   Have small, visible **external ear flaps**.\n",
      "    *   Can \"walk\" on land by rotating their large rear flippers forward.\n",
      "    *   They are noisy and \"bark.\"\n",
      "*   **Seals (True Seals):**\n",
      "    *   Have **no external ear flaps**, just ear holes.\n",
      "    *   Wriggle on their bellies on land; their rear flippers can't rotate forward.\n",
      "    *   They are generally quieter, making softer grunts.\n",
      "*   **Walruses:**\n",
      "    *   The easiest to spot! They are huge, have prominent **tusks** (in both males and females), and bristly whiskers. They have no external ear flaps, like seals, but can walk on land like sea lions.\n",
      "\n",
      "**Examples to look up:** California Sea Lion, Harbor Seal, Pacific Walrus.\n",
      "\n",
      "---\n",
      "\n",
      "### 3. Manatees and Dugongs (The Sirenians)\n",
      "\n",
      "Often called \"sea cows,\" these are large, slow-moving, gentle herbivores. They live in warm, shallow coastal waters, estuaries, and rivers. Legend has it that lonely sailors once mistook them for mermaids.\n",
      "\n",
      "**How to tell them apart:**\n",
      "*   **Manatees:** Have a large, **paddle-shaped tail**, like a beaver.\n",
      "*   **Dugongs:** Have a **fluked tail**, like a whale or dolphin.\n",
      "\n",
      "**Examples to look up:** West Indian Manatee, Dugong.\n",
      "\n",
      "---\n",
      "\n",
      "### 4. Sea Otters and Polar Bears\n",
      "\n",
      "These two are a bit different because they belong to families with land-based relatives (weasels and bears, respectively). However, they are considered marine mammals because they depend entirely on the ocean for their survival.\n",
      "\n",
      "*   **Sea Otters:**\n",
      "    *   The smallest marine mammal.\n",
      "    *   They have the densest fur of any animal on Earth to keep warm, as they have no blubber.\n",
      "    *   Famous for floating on their backs, using rocks as tools to crack open shellfish.\n",
      "*   **Polar Bears:**\n",
      "    *   The world's largest land carnivore, but they are classified as marine mammals because their life is tied to sea ice, where they hunt their primary food: seals.\n",
      "    *   They are excellent swimmers and can travel long distances in the water.\n",
      "\n",
      "To get started, I'd suggest picking one of these groups that sounds most interesting to you. For example, learning the simple tricks to tell a **seal from a sea lion** is a great place to begin\n",
      "================================\u001B[1m Human Message \u001B[0m=================================\n",
      "Name: Lance\n",
      "\n",
      "Tell me more about Narwhals!\n"
     ]
    }
   ],
   "execution_count": 13
  },
  {
   "cell_type": "code",
   "id": "23349705-a059-47b5-9760-d8f64e687393",
   "metadata": {
    "ExecuteTime": {
     "end_time": "2025-09-29T06:41:10.176907Z",
     "start_time": "2025-09-29T06:40:42.006648Z"
    }
   },
   "source": [
    "# Invoke, using message filtering\n",
    "output = graph.invoke({'messages': messages})\n",
    "for m in output['messages']:\n",
    "    m.pretty_print()"
   ],
   "outputs": [
    {
     "name": "stdout",
     "output_type": "stream",
     "text": [
      "==================================\u001B[1m Ai Message \u001B[0m==================================\n",
      "Name: Bot\n",
      "\n",
      "Hi.\n",
      "================================\u001B[1m Human Message \u001B[0m=================================\n",
      "Name: Lance\n",
      "\n",
      "Hi.\n",
      "==================================\u001B[1m Ai Message \u001B[0m==================================\n",
      "Name: Bot\n",
      "\n",
      "So you said you were researching ocean mammals?\n",
      "================================\u001B[1m Human Message \u001B[0m=================================\n",
      "Name: Lance\n",
      "\n",
      "Yes, I know about whales. But what others should I learn about?\n",
      "==================================\u001B[1m Ai Message \u001B[0m==================================\n",
      "\n",
      "Of course! It's a fascinating subject. Whales are part of a group called **Cetaceans**, but there are several other major families of marine mammals, each with its own unique adaptations.\n",
      "\n",
      "Let's break them down into the main groups you should know.\n",
      "\n",
      "### 1. Dolphins and Porpoises (Also Cetaceans!)\n",
      "\n",
      "You know whales, but dolphins and porpoises are technically a type of toothed whale. They are so distinct and diverse that they're worth studying on their own. They are known for their high intelligence, social structures, and use of echolocation.\n",
      "\n",
      "**How to tell them apart:**\n",
      "*   **Dolphins:** Usually have a longer snout (or \"beak\"), cone-shaped teeth, and a curved, wave-like dorsal fin. The Orca (or Killer Whale) is actually the largest species of dolphin!\n",
      "*   **Porpoises:** Are smaller and chubbier, with a blunt snout, spade-shaped teeth, and a small, triangular dorsal fin.\n",
      "\n",
      "**Examples to look up:** Bottlenose Dolphin, Orca, Vaquita (the world's most endangered marine mammal).\n",
      "\n",
      "---\n",
      "\n",
      "### 2. Seals, Sea Lions, and Walruses (The Pinnipeds)\n",
      "\n",
      "This group is known as the \"pinnipeds,\" which means \"fin-footed.\" They live both in the water and on land (or ice) for resting and breeding. People often mix them up, but there are easy ways to tell them apart.\n",
      "\n",
      "**How to tell them apart:**\n",
      "*   **Sea Lions:**\n",
      "    *   Have small, visible **external ear flaps**.\n",
      "    *   Can \"walk\" on land by rotating their large rear flippers forward.\n",
      "    *   They are noisy and \"bark.\"\n",
      "*   **Seals (True Seals):**\n",
      "    *   Have **no external ear flaps**, just ear holes.\n",
      "    *   Wriggle on their bellies on land; their rear flippers can't rotate forward.\n",
      "    *   They are generally quieter, making softer grunts.\n",
      "*   **Walruses:**\n",
      "    *   The easiest to spot! They are huge, have prominent **tusks** (in both males and females), and bristly whiskers. They have no external ear flaps, like seals, but can walk on land like sea lions.\n",
      "\n",
      "**Examples to look up:** California Sea Lion, Harbor Seal, Pacific Walrus.\n",
      "\n",
      "---\n",
      "\n",
      "### 3. Manatees and Dugongs (The Sirenians)\n",
      "\n",
      "Often called \"sea cows,\" these are large, slow-moving, gentle herbivores. They live in warm, shallow coastal waters, estuaries, and rivers. Legend has it that lonely sailors once mistook them for mermaids.\n",
      "\n",
      "**How to tell them apart:**\n",
      "*   **Manatees:** Have a large, **paddle-shaped tail**, like a beaver.\n",
      "*   **Dugongs:** Have a **fluked tail**, like a whale or dolphin.\n",
      "\n",
      "**Examples to look up:** West Indian Manatee, Dugong.\n",
      "\n",
      "---\n",
      "\n",
      "### 4. Sea Otters and Polar Bears\n",
      "\n",
      "These two are a bit different because they belong to families with land-based relatives (weasels and bears, respectively). However, they are considered marine mammals because they depend entirely on the ocean for their survival.\n",
      "\n",
      "*   **Sea Otters:**\n",
      "    *   The smallest marine mammal.\n",
      "    *   They have the densest fur of any animal on Earth to keep warm, as they have no blubber.\n",
      "    *   Famous for floating on their backs, using rocks as tools to crack open shellfish.\n",
      "*   **Polar Bears:**\n",
      "    *   The world's largest land carnivore, but they are classified as marine mammals because their life is tied to sea ice, where they hunt their primary food: seals.\n",
      "    *   They are excellent swimmers and can travel long distances in the water.\n",
      "\n",
      "To get started, I'd suggest picking one of these groups that sounds most interesting to you. For example, learning the simple tricks to tell a **seal from a sea lion** is a great place to begin\n",
      "================================\u001B[1m Human Message \u001B[0m=================================\n",
      "Name: Lance\n",
      "\n",
      "Tell me more about Narwhals!\n",
      "==================================\u001B[1m Ai Message \u001B[0m==================================\n",
      "\n",
      "['Of course! Narwhals are one of the most fascinating and mysterious creatures in the ocean. Often called the \"Unicorns of the Sea,\" they are full of incredible surprises.\\n\\nHere’s a deep dive into the world of the narwhal.\\n\\n***\\n\\n### 1. The Legendary Tusk: It\\'s Not a Horn!\\n\\nThis is the narwhal\\'s most famous feature, and it\\'s surrounded by misconceptions.\\n\\n*   **It\\'s a Tooth:** The tusk is actually an overgrown, single canine tooth that erupts from the left side of the upper jaw and grows straight through the narwhal\\'s upper lip.\\n*   **A Spiral Wonder:** It always grows in a counter-clockwise spiral and can reach lengths of up to 10 feet (3 meters). It\\'s also somewhat flexible and can bend about a foot in any direction without breaking.\\n*   **Mostly a Male Trait:** The vast majority of tusked narwhals are males. While some females can grow a small tusk, it\\'s very rare. Even rarer, some males can grow two tusks!\\n*   **What is it for? The Surprising Answer:** For centuries, people thought it was for fighting or spearing fish. The reality is far more complex and amazing. The tusk is a **sensory organ**. It is porous and contains millions of tiny nerve endings that can detect changes in the water, including:\\n    *   **Temperature**\\n    *   **Water pressure**\\n    *   **Salinity (salt levels)**\\n    *   **Particle gradients** (which helps them find food)\\n\\nMales are sometimes seen gently rubbing their tusks together, a behavior known as \"tusking.\" Scientists believe this could be a way of communicating or cleaning the tusk.', '\\n\\n### 2. Appearance and Biology\\n\\n*   **Family:** Narwhals belong to the *Monodontidae* family, which means \"one tooth.\" Their only living relative is the beluga whale.\\n*   **Size:** They are medium-sized whales, typically growing to be 13 to 18 feet (4 to 5.5 meters) long, not including the tusk.\\n*   **Color:** Their coloring changes with age. Calves are born a dark blue-gray, juveniles become a mottled black and white, and adults become mostly pale with a speckled back. Old narwhals can be almost completely white.\\n*   **No Dorsal Fin:** Like their beluga cousins, narwhals have no dorsal fin. This is a key adaptation for living in the Arctic, allowing them to swim easily under vast sheets of sea ice.\\n\\n### 3. Habitat: A Life in the Ice\\n\\nNarwhals are true Arctic specialists.\\n\\n*   **Where They Live:** They are found in the Arctic waters of Canada, Greenland, Norway, and Russia. They have a very specific and limited range.\\n*   **Dependence on Sea Ice:** They live their entire lives in the pack ice, migrating as the ice freezes and thaws. They use the ice for protection from predators like orcas and rely on cracks in the ice, called \"leads,\" to breathe.\\n\\n### 4. Diet and Hunting\\n\\n*   **What They Eat:** Their diet consists mainly of Greenland halibut, Arctic and polar cod, shrimp, and squid.\\n*   **Masters of Echolocation:** They hunt in the deep, dark waters of the Arctic, often diving to depths of over 5,000 feet (1,500 meters). To \"see\" in the dark, they use one of the most powerful and precise forms of sonar in the animal kingdom. They emit rapid clicks and listen for the echoes to create a \"sound picture\" of their surroundings and locate their prey. They then stun their prey with a sharp pulse of sound before eating it.\\n\\n### 5. Behavior and Social Life\\n\\n*   **Social Creatures:** Narwhals are social animals and travel in groups called \"pods,\" which usually number between 10 and 100 individuals. In the summer, these pods can merge to form massive \"superpods\" of thousands of narwhals.\\n*   **Vocal Communicators:** They have a complex range of vocalizations, including clicks, whistles, and pulsed calls, which they use to communicate with each other and navigate.\\n\\n### 6. The Name\\'s Origin\\n\\nThe name \"narwhal\" comes from the Old Norse word *nár*, meaning \"corpse.\" It\\'s believed this name was given because their mottled gray and white skin resembled that of a drowned sailor.\\n\\n### 7. Threats and Conservation Status\\n\\nNarwhals are currently listed as **\"Near Threatened\"** by the IUCN. They face several significant threats:\\n\\n*   **Climate Change:** This is their biggest threat. As the Arctic warms, the sea ice they depend on for survival is disappearing. Unpredictable ice formations can also lead to \"ice entrapments,\" where hundreds of narwhals can get trapped in a small breathing hole and either starve or suffocate.\\n*   **Noise Pollution:** Increased shipping and industrial exploration in the Arctic create underwater noise that can interfere with their ability to communicate and echolocate.\\n*   **Natural Predators:** Orcas (killer whales), polar bears, and Greenland sharks prey on narwhals.\\n\\n### Fun Facts to Summarize:\\n\\n*   Their tusk can weigh up to 22 pounds (10 kg).\\n*   They are among the deepest diving marine mammals.\\n*   The skin of a narwhal (called *muktuk*) is a traditional and vital part of the Inuit diet, providing a rich source of Vitamin C.\\n*   For centuries, narwhal tusks were sold in Europe as \"unicorn horns,\" believed to have magical healing properties and the ability to neutralize poison.\\n\\nIn short, the narwhal is a perfectly adapted Arctic survivor whose most famous feature is not a weapon, but an extraordinary window into its icy world.']\n"
     ]
    }
   ],
   "execution_count": 14
  },
  {
   "cell_type": "markdown",
   "id": "42e1d8d2-e297-4d78-b54c-d12b3c866745",
   "metadata": {},
   "source": [
    "The state has all of the mesages.\n",
    "\n",
    "But, let's look at the LangSmith trace to see that the model invocation only uses the last message:\n",
    "\n",
    "https://smith.langchain.com/public/75aca3ce-ef19-4b92-94be-0178c7a660d9/r"
   ]
  },
  {
   "cell_type": "markdown",
   "id": "fc40d930-3c1f-47fe-8d2a-ce174873353c",
   "metadata": {},
   "source": [
    "## Trim messages\n",
    "\n",
    "Another approach is to [trim messages](https://python.langchain.com/v0.2/docs/how_to/trim_messages/#getting-the-last-max_tokens-tokens), based upon a set number of tokens. \n",
    "\n",
    "This restricts the message history to a specified number of tokens.\n",
    "\n",
    "While filtering only returns a post-hoc subset of the messages between agents, trimming restricts the number of tokens that a chat model can use to respond.\n",
    "\n",
    "See the `trim_messages` below."
   ]
  },
  {
   "cell_type": "code",
   "id": "2ff99b81-cf03-4cc2-b44f-44829a73e1fd",
   "metadata": {
    "ExecuteTime": {
     "end_time": "2025-09-29T06:56:41.296969Z",
     "start_time": "2025-09-29T06:56:41.166753Z"
    }
   },
   "source": [
    "from langchain_core.messages import trim_messages\n",
    "\n",
    "# Node\n",
    "def chat_model_node(state: MessagesState):\n",
    "    messages = trim_messages(\n",
    "            state[\"messages\"],\n",
    "            max_tokens=100,\n",
    "            strategy=\"last\",\n",
    "            token_counter=ChatGoogleGenerativeAI(model=\"gemini-2.5-pro\"),\n",
    "            allow_partial=False,\n",
    "        )\n",
    "    return {\"messages\": [llm.invoke(messages)]}\n",
    "\n",
    "# Build graph\n",
    "builder = StateGraph(MessagesState)\n",
    "builder.add_node(\"chat_model\", chat_model_node)\n",
    "builder.add_edge(START, \"chat_model\")\n",
    "builder.add_edge(\"chat_model\", END)\n",
    "graph = builder.compile()\n",
    "\n",
    "# View\n",
    "display(Image(graph.get_graph().draw_mermaid_png()))"
   ],
   "outputs": [
    {
     "data": {
      "image/jpeg": "[encoded data removed]",
      "text/plain": [
       "<IPython.core.display.Image object>"
      ]
     },
     "metadata": {},
     "output_type": "display_data",
     "jetTransient": {
      "display_id": null
     }
    }
   ],
   "execution_count": 23
  },
  {
   "cell_type": "code",
   "id": "24df63ac-da29-4874-b3df-7e390e97cc8a",
   "metadata": {
    "ExecuteTime": {
     "end_time": "2025-09-29T06:53:10.248321Z",
     "start_time": "2025-09-29T06:53:10.240180Z"
    }
   },
   "source": [
    "messages.append(output['messages'][-1])\n",
    "messages.append(HumanMessage(f\"Tell me where Orcas live!\", name=\"Lance\"))"
   ],
   "outputs": [],
   "execution_count": 17
  },
  {
   "cell_type": "code",
   "id": "6d9d8971-c75c-43ca-a209-eb1d07b2ead0",
   "metadata": {
    "ExecuteTime": {
     "end_time": "2025-09-29T06:56:29.792092Z",
     "start_time": "2025-09-29T06:56:28.496492Z"
    }
   },
   "source": [
    "# Example of trimming messages\n",
    "trim_messages(\n",
    "            messages,\n",
    "            max_tokens=100,\n",
    "            strategy=\"last\",\n",
    "            token_counter=ChatGoogleGenerativeAI(model=\"gemini-2.5-pro\"),\n",
    "            allow_partial=False\n",
    "        )"
   ],
   "outputs": [
    {
     "name": "stderr",
     "output_type": "stream",
     "text": [
      "E0000 00:00:1759128988.510608  805913 alts_credentials.cc:93] ALTS creds ignored. Not running on GCP and untrusted ALTS is not enabled.\n"
     ]
    },
    {
     "data": {
      "text/plain": [
       "[HumanMessage(content='Tell me where Orcas live!', additional_kwargs={}, response_metadata={}, name='Lance')]"
      ]
     },
     "execution_count": 22,
     "metadata": {},
     "output_type": "execute_result"
    }
   ],
   "execution_count": 22
  },
  {
   "cell_type": "code",
   "id": "ed70a269-a869-4fa0-a1df-29736a432c51",
   "metadata": {
    "ExecuteTime": {
     "end_time": "2025-09-29T07:16:47.258274Z",
     "start_time": "2025-09-29T07:16:20.968836Z"
    }
   },
   "source": [
    "# Invoke, using message trimming in the chat_model_node \n",
    "messages_out_trim = graph.invoke({'messages': messages})"
   ],
   "outputs": [
    {
     "name": "stderr",
     "output_type": "stream",
     "text": [
      "E0000 00:00:1759130180.997634  805913 alts_credentials.cc:93] ALTS creds ignored. Not running on GCP and untrusted ALTS is not enabled.\n"
     ]
    }
   ],
   "execution_count": 25
  },
  {
   "cell_type": "markdown",
   "id": "38b3db67-380e-46b5-9a6a-20100ba52008",
   "metadata": {},
   "source": [
    "Let's look at the LangSmith trace to see the model invocation:\n",
    "\n",
    "https://smith.langchain.com/public/b153f7e9-f1a5-4d60-8074-f0d7ab5b42ef/r"
   ]
  }
 ],
 "metadata": {
  "kernelspec": {
   "display_name": "Python 3 (ipykernel)",
   "language": "python",
   "name": "python3"
  },
  "language_info": {
   "codemirror_mode": {
    "name": "ipython",
    "version": 3
   },
   "file_extension": ".py",
   "mimetype": "text/x-python",
   "name": "python",
   "nbconvert_exporter": "python",
   "pygments_lexer": "ipython3",
   "version": "3.12.1"
  }
 },
 "nbformat": 4,
 "nbformat_minor": 5
}
